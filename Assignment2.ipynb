{
 "cells": [
  {
   "cell_type": "markdown",
   "metadata": {
    "collapsed": true
   },
   "source": [
    "# **COMP41680 - Sample API Assignment**"
   ]
  },
  {
   "cell_type": "markdown",
   "metadata": {},
   "source": [
    "### Name: Christopher Hayes\n",
    "### Student Number: 13333061"
   ]
  },
  {
   "cell_type": "markdown",
   "metadata": {},
   "source": [
    "Firs the necessary libraries were imported for use later."
   ]
  },
  {
   "cell_type": "code",
   "execution_count": 1,
   "metadata": {},
   "outputs": [],
   "source": [
    "from bs4 import BeautifulSoup\n",
    "import urllib.request\n",
    "import numpy as np\n",
    "import matplotlib.pyplot as plt\n",
    "from sklearn import svm, datasets\n",
    "import itertools\n",
    "import nltk\n",
    "from sklearn.metrics import *\n",
    "from sklearn.model_selection import cross_val_score"
   ]
  },
  {
   "cell_type": "markdown",
   "metadata": {},
   "source": [
    "### Confusion Matrix Function"
   ]
  },
  {
   "cell_type": "markdown",
   "metadata": {},
   "source": [
    "SciKit Learn function to plot a confusion matrix with in a blue shading. Function can be found on SciKit learns website *http://scikit-learn.org/stable/auto_examples/model_selection/plot_confusion_matrix.html*"
   ]
  },
  {
   "cell_type": "code",
   "execution_count": 2,
   "metadata": {
    "collapsed": true
   },
   "outputs": [],
   "source": [
    "# import all of the scikit-learn evaluation functionality\n",
    "def plot_confusion_matrix(cm, classes,\n",
    "                          normalize=False,\n",
    "                          title='Confusion matrix',\n",
    "                          cmap=plt.cm.Blues):\n",
    "    \"\"\"\n",
    "    This function prints and plots the confusion matrix.\n",
    "    Normalization can be applied by setting `normalize=True`.\n",
    "    \"\"\"\n",
    "    if normalize:\n",
    "        cm = cm.astype('float') / cm.sum(axis=1)[:, np.newaxis]\n",
    "        print(\"Normalized confusion matrix\")\n",
    "    else:\n",
    "        print('Confusion matrix, without normalization')\n",
    "\n",
    "    print(cm)\n",
    "\n",
    "    plt.imshow(cm, interpolation='nearest', cmap=cmap)\n",
    "    plt.title(title)\n",
    "    plt.colorbar()\n",
    "    tick_marks = np.arange(len(classes))\n",
    "    plt.xticks(tick_marks, classes, rotation=45)\n",
    "    plt.yticks(tick_marks, classes)\n",
    "\n",
    "    fmt = '.2f' if normalize else 'd'\n",
    "    thresh = cm.max() / 2.\n",
    "    for i, j in itertools.product(range(cm.shape[0]), range(cm.shape[1])):\n",
    "        plt.text(j, i, format(cm[i, j], fmt),\n",
    "                 horizontalalignment=\"center\",\n",
    "                 color=\"white\" if cm[i, j] > thresh else \"black\")\n",
    "\n",
    "    plt.tight_layout()\n",
    "    plt.ylabel('True label')\n",
    "    plt.xlabel('Predicted label')"
   ]
  },
  {
   "cell_type": "markdown",
   "metadata": {},
   "source": [
    "## Part 1 - Data Collection"
   ]
  },
  {
   "cell_type": "markdown",
   "metadata": {},
   "source": [
    "Part 1 deals with the collection and storage of data in text files."
   ]
  },
  {
   "cell_type": "markdown",
   "metadata": {},
   "source": [
    "### Scrape webpage for links to each monthly articles."
   ]
  },
  {
   "cell_type": "markdown",
   "metadata": {},
   "source": [
    "BeutifulSoup is used to parse the HTML file and each month is stored in an array"
   ]
  },
  {
   "cell_type": "code",
   "execution_count": 3,
   "metadata": {},
   "outputs": [],
   "source": [
    "# Use BeautifulSoup to clean up HTML file\n",
    "link = \"http://mlg.ucd.ie/modules/COMP41680/archive/index.html\"\n",
    "response = urllib.request.urlopen(link)\n",
    "html = response.read().decode()\n",
    "\n",
    "# Clean up HTML\n",
    "soup = BeautifulSoup(html, 'html.parser')           \n",
    "\n",
    "months = []\n",
    "# Retrieve URL where monthly articles are stored\n",
    "for link in soup.body.ul.find_all('a'):\n",
    "    months.append(link.get('href'))"
   ]
  },
  {
   "cell_type": "markdown",
   "metadata": {},
   "source": [
    "### Retrieve individual article links and store categories"
   ]
  },
  {
   "cell_type": "markdown",
   "metadata": {},
   "source": [
    "Each article link is scraped from the webpage and stored in an array. Each category is stored in a text file."
   ]
  },
  {
   "cell_type": "code",
   "execution_count": 4,
   "metadata": {},
   "outputs": [],
   "source": [
    "article_links = []\n",
    "article_categories = []\n",
    "\n",
    "# Retrieve article categories and links\n",
    "for month_link in months:\n",
    "    link = \"http://mlg.ucd.ie/modules/COMP41680/archive/\"+month_link\n",
    "    response = urllib.request.urlopen(link)\n",
    "    html = response.read().decode()\n",
    "    soup = BeautifulSoup(html, 'html.parser')\n",
    "\n",
    "    # Retrieve category and store in array\n",
    "    for link in soup.body.tbody.find_all('td'):\n",
    "        if link['class'] == ['category']:\n",
    "            if link.get_text()[1:] != 'N/A':\n",
    "                article_categories.append(link.get_text()[1:])\n",
    "                \n",
    "        # Store article link in another array\n",
    "        try:\n",
    "            article_links.append(link.a.get('href'))\n",
    "        except:\n",
    "            continue\n",
    "\n",
    "# Error check to make sure article links and categories match up\n",
    "if len(article_links) != len(article_categories):\n",
    "    print('Error! Article length and article categories must be the same length')\n",
    "\n",
    "# Write categories to a seperate file\n",
    "Article_Categories_file = open('Article_Categories.txt', 'w')\n",
    "for category in article_categories:\n",
    "    Article_Categories_file.write(\"%s\\n\" % category)\n",
    "Article_Categories_file.close()"
   ]
  },
  {
   "cell_type": "markdown",
   "metadata": {},
   "source": [
    "### Retrieve HTML body text"
   ]
  },
  {
   "cell_type": "markdown",
   "metadata": {},
   "source": [
    "The text body for each article is retrieved and concatenated to one large string. This string is then written to an output .txt file. Each article in the .txt file is seperated by a carriage return '\\n'. "
   ]
  },
  {
   "cell_type": "code",
   "execution_count": 5,
   "metadata": {},
   "outputs": [],
   "source": [
    "# Footer of each article\n",
    "footer = ['Return', 'to', 'article', 'search', 'results']\n",
    "article_text = []\n",
    "\n",
    "\n",
    "# Retrieve article body text\n",
    "for link in article_links:\n",
    "    string = []\n",
    "    link = \"http://mlg.ucd.ie/modules/COMP41680/archive/\"+link\n",
    "    response = urllib.request.urlopen(link)\n",
    "    html = response.read().decode()\n",
    "    soup = BeautifulSoup(html, 'html.parser')\n",
    "    \n",
    "    # Add the title to the string\n",
    "    string += soup.body.h2.get_text().split(\" \")\n",
    "    \n",
    "    # If the text is the footer or empty continue, otherwise store text in string\n",
    "    # array. \n",
    "    for i in soup.body.find_all('p'):\n",
    "        if i.get_text().split(\" \") == [''] or i.get_text().split(\" \") == footer:\n",
    "            continue\n",
    "        else:\n",
    "            # Write body\n",
    "            string += i.get_text().split(\" \")\n",
    "    \n",
    "    # Store text data in array with each article seperated by a carriage return\n",
    "    string += '\\n'\n",
    "    article_text.append(' '.join(string))\n",
    "\n",
    "    \n",
    "# Used to write strings to a .txt file without encoding problems\n",
    "import string\n",
    "\n",
    "# Write body to .txt file\n",
    "Article_Body = open('Article_Body_Text.txt', 'w')\n",
    "for item in article_text:\n",
    "    # Write to body text file if the string can be written with the appropriate encoding\n",
    "    Article_Body.write(\"\".join(i for i in item if i in string.printable))\n",
    "Article_Body.close()"
   ]
  },
  {
   "cell_type": "markdown",
   "metadata": {},
   "source": [
    "## Part 2 - Text Classification"
   ]
  },
  {
   "cell_type": "markdown",
   "metadata": {},
   "source": [
    "### Create target indices"
   ]
  },
  {
   "cell_type": "markdown",
   "metadata": {},
   "source": [
    "Create class indices based on the article categories"
   ]
  },
  {
   "cell_type": "code",
   "execution_count": 6,
   "metadata": {},
   "outputs": [],
   "source": [
    "# Define target names\n",
    "target = []\n",
    "target_names = ['technology', 'business', 'sport']\n",
    "Article_Categories = open('Article_Categories.txt','r')\n",
    "\n",
    "# Assign index depending category\n",
    "for i in Article_Categories:\n",
    "        if i == 'technology\\n':\n",
    "            target.append(0)\n",
    "        elif i == 'business\\n':\n",
    "            target.append(1)\n",
    "        elif i == 'sport\\n':\n",
    "            target.append(2)\n",
    "        else:\n",
    "            print(\"Not added\")\n",
    "\n",
    "Article_Categories.close()"
   ]
  },
  {
   "cell_type": "markdown",
   "metadata": {},
   "source": [
    "### Create Training Document Term Matrix"
   ]
  },
  {
   "cell_type": "markdown",
   "metadata": {},
   "source": [
    "The text bodies are read in from the .txt file and split in to training and test sets. Using a lemma tokenizer the training dataset is converted to a document term matrix."
   ]
  },
  {
   "cell_type": "code",
   "execution_count": 7,
   "metadata": {},
   "outputs": [],
   "source": [
    "from sklearn.feature_extraction.text import CountVectorizer\n",
    "\n",
    "# define the lemma tokenizer function\n",
    "def lemma_tokenizer(text):\n",
    "    # use the standard scikit-learn tokenizer first\n",
    "    standard_tokenizer = CountVectorizer().build_tokenizer()\n",
    "    tokens = standard_tokenizer(text)\n",
    "    # then use NLTK to perform lemmatisation on each token\n",
    "    lemmatizer = nltk.stem.WordNetLemmatizer()\n",
    "    lemma_tokens = []\n",
    "    for token in tokens:\n",
    "        lemma_tokens.append( lemmatizer.lemmatize(token) )\n",
    "    return lemma_tokens\n",
    "\n",
    "\n",
    "# Open body text file and store each article in array\n",
    "Article_Body = open('Article_Body_Text.txt', 'r')\n",
    "articles = []\n",
    "\n",
    "# Covnert to lowercase\n",
    "for i in Article_Body:\n",
    "    articles.append(i.lower())\n",
    "\n",
    "# Create a lemma tokenizer\n",
    "from sklearn.feature_extraction.text import TfidfVectorizer\n",
    "vectorizer = TfidfVectorizer(tokenizer=lemma_tokenizer, stop_words=\"english\", min_df=4)\n",
    "\n",
    "# Create training dataset (80%) and test dataset (20%)\n",
    "from sklearn.model_selection import train_test_split\n",
    "dataset_train, dataset_test, target_train, target_test = train_test_split(articles, target, test_size=0.2)\n",
    "\n",
    "# Create the document term matrix\n",
    "train_X = vectorizer.fit_transform(dataset_train)\n"
   ]
  },
  {
   "cell_type": "markdown",
   "metadata": {},
   "source": [
    "## Nearest Neighbour Classifier\n"
   ]
  },
  {
   "cell_type": "markdown",
   "metadata": {},
   "source": [
    "Use the nearest neighbour classifier to create a model from the training data and predict the categories of the test dataset."
   ]
  },
  {
   "cell_type": "code",
   "execution_count": 8,
   "metadata": {},
   "outputs": [],
   "source": [
    "# Fit the training  dataset with K = 3 nearest neighbours\n",
    "from sklearn.neighbors import KNeighborsClassifier\n",
    "model = KNeighborsClassifier(n_neighbors=3)\n",
    "\n",
    "model.fit(train_X, target_train)\n",
    "\n",
    "# Create a document term matrix with test dataset\n",
    "test_X = vectorizer.transform(dataset_test)\n",
    "\n",
    "# Make prediction\n",
    "predicted_KNN = model.predict(test_X)\n"
   ]
  },
  {
   "cell_type": "markdown",
   "metadata": {},
   "source": [
    "### Plot Confusion matrix and Cross Validation"
   ]
  },
  {
   "cell_type": "code",
   "execution_count": 9,
   "metadata": {},
   "outputs": [
    {
     "name": "stdout",
     "output_type": "stream",
     "text": [
      "KNN: Mean cross-validation accuracy = 0.9510\n",
      "Confusion matrix, without normalization\n",
      "[[ 88   2   1]\n",
      " [  2  86   0]\n",
      " [  0   3 100]]\n",
      "Normalized confusion matrix\n",
      "[[ 0.97  0.02  0.01]\n",
      " [ 0.02  0.98  0.  ]\n",
      " [ 0.    0.03  0.97]]\n"
     ]
    },
    {
     "data": {
      "image/png": "[encoded data removed]",
      "text/plain": [
       "<matplotlib.figure.Figure at 0x273adf89860>"
      ]
     },
     "metadata": {},
     "output_type": "display_data"
    },
    {
     "data": {
      "image/png": "[encoded data removed]",
      "text/plain": [
       "<matplotlib.figure.Figure at 0x273a9780908>"
      ]
     },
     "metadata": {},
     "output_type": "display_data"
    }
   ],
   "source": [
    "# Compute confusion matrix with predicted and actual terms\n",
    "cnf_matrix_KNN = confusion_matrix(target_test, predicted_KNN)\n",
    "np.set_printoptions(precision=2)\n",
    "\n",
    "# Cross Validation\n",
    "acc_scores_KNN =  cross_val_score(model, train_X, target_train, cv=50, scoring=\"accuracy\")\n",
    "print(\"KNN: Mean cross-validation accuracy = %.4f\" % acc_scores_KNN.mean() )\n",
    "\n",
    "# Plot non-normalized confusion matrix\n",
    "plt.figure()\n",
    "plot_confusion_matrix(cnf_matrix_KNN, classes=target_names,\n",
    "                      title='KNN Confusion matrix, without normalization')\n",
    "\n",
    "# Plot normalized confusion matrix\n",
    "plt.figure()\n",
    "plot_confusion_matrix(cnf_matrix_KNN, classes=target_names, normalize=True,\n",
    "                      title='KNN Normalized confusion matrix')\n",
    "\n",
    "plt.show()"
   ]
  },
  {
   "cell_type": "markdown",
   "metadata": {},
   "source": [
    "## Naive Bayes"
   ]
  },
  {
   "cell_type": "markdown",
   "metadata": {},
   "source": [
    "Use the Naive Bayes classifier to create a model from the training data and predict the categories of the test dataset."
   ]
  },
  {
   "cell_type": "code",
   "execution_count": 10,
   "metadata": {},
   "outputs": [],
   "source": [
    "from sklearn.naive_bayes import MultinomialNB\n",
    "model_bayes = MultinomialNB()\n",
    "\n",
    "# Build a Bayes model with training data\n",
    "model_bayes.fit(train_X, target_train)\n",
    "\n",
    "# Transform test dataset to a document term matrix and predict results\n",
    "test_X_Bayes = vectorizer.transform(dataset_test)\n",
    "predicted_bayes = model_bayes.predict(test_X_Bayes)"
   ]
  },
  {
   "cell_type": "markdown",
   "metadata": {},
   "source": [
    "### Plot Confusion matrix and Cross Validation"
   ]
  },
  {
   "cell_type": "code",
   "execution_count": 11,
   "metadata": {},
   "outputs": [
    {
     "name": "stdout",
     "output_type": "stream",
     "text": [
      "Bayes: Mean cross-validation accuracy = 0.9778\n",
      "Confusion matrix, without normalization\n",
      "[[ 89   2   0]\n",
      " [  1  87   0]\n",
      " [  0   1 102]]\n",
      "Normalized confusion matrix\n",
      "[[ 0.98  0.02  0.  ]\n",
      " [ 0.01  0.99  0.  ]\n",
      " [ 0.    0.01  0.99]]\n"
     ]
    },
    {
     "data": {
      "image/png": "[encoded data removed]",
      "text/plain": [
       "<matplotlib.figure.Figure at 0x273adf855c0>"
      ]
     },
     "metadata": {},
     "output_type": "display_data"
    },
    {
     "data": {
      "image/png": "[encoded data removed]",
      "text/plain": [
       "<matplotlib.figure.Figure at 0x273ae38feb8>"
      ]
     },
     "metadata": {},
     "output_type": "display_data"
    }
   ],
   "source": [
    "# Compute confusion matrix with predicted and actual terms\n",
    "cnf_matrix_Bayes = confusion_matrix(target_test, predicted_bayes)\n",
    "np.set_printoptions(precision=2)\n",
    "\n",
    "# Cross Validation\n",
    "acc_scores_Bayes =  cross_val_score(model_bayes, train_X, target_train, cv=50, scoring=\"accuracy\")\n",
    "print(\"Bayes: Mean cross-validation accuracy = %.4f\" % acc_scores_Bayes.mean() )\n",
    "\n",
    "# Plot non-normalized confusion matrix\n",
    "plt.figure()\n",
    "plot_confusion_matrix(cnf_matrix_Bayes, classes=target_names,\n",
    "                      title='Bayes Confusion matrix, without normalization')\n",
    "\n",
    "# Plot normalized confusion matrix\n",
    "plt.figure()\n",
    "plot_confusion_matrix(cnf_matrix_Bayes, classes=target_names, normalize=True,\n",
    "                      title='Bayes Normalized confusion matrix')\n",
    "\n",
    "plt.show()"
   ]
  },
  {
   "cell_type": "markdown",
   "metadata": {},
   "source": [
    "## Logistic Regression"
   ]
  },
  {
   "cell_type": "markdown",
   "metadata": {},
   "source": [
    "Use the Logistic Regression classifier to create a model from the training data and predict the categories of the test dataset."
   ]
  },
  {
   "cell_type": "code",
   "execution_count": 12,
   "metadata": {},
   "outputs": [],
   "source": [
    "from sklearn import linear_model\n",
    "model_logistic = linear_model.LogisticRegression()\n",
    "model_logistic.fit(train_X, target_train)\n",
    "test_X_Log = vectorizer.transform(dataset_test)\n",
    "predicted_Log = model_logistic.predict(test_X_Log)"
   ]
  },
  {
   "cell_type": "markdown",
   "metadata": {},
   "source": [
    "### Compute Confusion Matrix"
   ]
  },
  {
   "cell_type": "code",
   "execution_count": 13,
   "metadata": {},
   "outputs": [
    {
     "name": "stdout",
     "output_type": "stream",
     "text": [
      "Logistic: Mean cross-validation accuracy = 0.9768\n",
      "Confusion matrix, without normalization\n",
      "[[ 88   3   0]\n",
      " [  0  88   0]\n",
      " [  0   1 102]]\n",
      "Normalized confusion matrix\n",
      "[[ 0.97  0.03  0.  ]\n",
      " [ 0.    1.    0.  ]\n",
      " [ 0.    0.01  0.99]]\n"
     ]
    },
    {
     "data": {
      "image/png": "[encoded data removed]",
      "text/plain": [
       "<matplotlib.figure.Figure at 0x273a96dd4a8>"
      ]
     },
     "metadata": {},
     "output_type": "display_data"
    },
    {
     "data": {
      "image/png": "[encoded data removed]",
      "text/plain": [
       "<matplotlib.figure.Figure at 0x273afb3b550>"
      ]
     },
     "metadata": {},
     "output_type": "display_data"
    }
   ],
   "source": [
    "# Compute confusion matrix\n",
    "cnf_matrix_Log = confusion_matrix(target_test, predicted_Log)\n",
    "np.set_printoptions(precision=2)\n",
    "\n",
    "#Cross Validation\n",
    "acc_scores_Log =  cross_val_score(model_logistic, train_X, target_train, cv=50, scoring=\"accuracy\")\n",
    "print(\"Logistic: Mean cross-validation accuracy = %.4f\" % acc_scores_Log.mean() )\n",
    "\n",
    "# Plot non-normalized confusion matrix\n",
    "plt.figure()\n",
    "plot_confusion_matrix(cnf_matrix_Log, classes=target_names,\n",
    "                      title='SVC Confusion matrix, without normalization')\n",
    "\n",
    "# Plot normalized confusion matrix\n",
    "plt.figure()\n",
    "plot_confusion_matrix(cnf_matrix_Log, classes=target_names, normalize=True,\n",
    "                      title='SVC Normalized confusion matrix')\n",
    "\n",
    "plt.show()"
   ]
  },
  {
   "cell_type": "markdown",
   "metadata": {},
   "source": [
    "# Report And Discussion"
   ]
  },
  {
   "cell_type": "code",
   "execution_count": 14,
   "metadata": {},
   "outputs": [
    {
     "name": "stdout",
     "output_type": "stream",
     "text": [
      "KNN: Mean cross-validation accuracy = 0.9510\n",
      "Bayes: Mean cross-validation accuracy = 0.9778\n",
      "Logistic: Mean cross-validation accuracy = 0.9768\n"
     ]
    }
   ],
   "source": [
    "print(\"KNN: Mean cross-validation accuracy = %.4f\" % acc_scores_KNN.mean() )\n",
    "print(\"Bayes: Mean cross-validation accuracy = %.4f\" % acc_scores_Bayes.mean() )\n",
    "print(\"Logistic: Mean cross-validation accuracy = %.4f\" % acc_scores_Log.mean() )"
   ]
  },
  {
   "cell_type": "markdown",
   "metadata": {},
   "source": [
    "It was observed over the three classifier evaluations that the business articles tended to give the largest error when predicting the output categories, while technology and sport articles were predicted with higher accuracy."
   ]
  },
  {
   "cell_type": "markdown",
   "metadata": {},
   "source": [
    "Each classifier was tested under a 50-fold cross validation. The Naive Bayes and the Logistic Regression classifiers performed the best and yielded similar accuracies (~98%) under the cross validation process. The Nearest Neighbour classifier still provided a high accuracy (~95%) but still performed the worst out of the three classifiers."
   ]
  },
  {
   "cell_type": "code",
   "execution_count": null,
   "metadata": {
    "collapsed": true
   },
   "outputs": [],
   "source": []
  }
 ],
 "metadata": {
  "kernelspec": {
   "display_name": "Python 3",
   "language": "python",
   "name": "python3"
  },
  "language_info": {
   "codemirror_mode": {
    "name": "ipython",
    "version": 3
   },
   "file_extension": ".py",
   "mimetype": "text/x-python",
   "name": "python",
   "nbconvert_exporter": "python",
   "pygments_lexer": "ipython3",
   "version": "3.6.2"
  }
 },
 "nbformat": 4,
 "nbformat_minor": 1
}
